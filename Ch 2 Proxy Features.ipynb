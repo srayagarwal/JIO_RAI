{
 "cells": [
  {
   "cell_type": "code",
   "execution_count": 138,
   "metadata": {},
   "outputs": [],
   "source": [
    "import numpy as np\n",
    "import pandas as pd\n",
    "from scipy import stats"
   ]
  },
  {
   "cell_type": "code",
   "execution_count": 139,
   "metadata": {},
   "outputs": [],
   "source": [
    "proxy=pd.read_csv('proxy.csv')"
   ]
  },
  {
   "cell_type": "code",
   "execution_count": 158,
   "metadata": {},
   "outputs": [
    {
     "data": {
      "text/html": [
       "<div>\n",
       "<style scoped>\n",
       "    .dataframe tbody tr th:only-of-type {\n",
       "        vertical-align: middle;\n",
       "    }\n",
       "\n",
       "    .dataframe tbody tr th {\n",
       "        vertical-align: top;\n",
       "    }\n",
       "\n",
       "    .dataframe thead th {\n",
       "        text-align: right;\n",
       "    }\n",
       "</style>\n",
       "<table border=\"1\" class=\"dataframe\">\n",
       "  <thead>\n",
       "    <tr style=\"text-align: right;\">\n",
       "      <th></th>\n",
       "      <th>Cat 1</th>\n",
       "      <th>Cat 2</th>\n",
       "      <th>Cat 3</th>\n",
       "      <th>Cat 4</th>\n",
       "    </tr>\n",
       "  </thead>\n",
       "  <tbody>\n",
       "    <tr>\n",
       "      <th>0</th>\n",
       "      <td>0</td>\n",
       "      <td>0</td>\n",
       "      <td>0</td>\n",
       "      <td>1</td>\n",
       "    </tr>\n",
       "    <tr>\n",
       "      <th>1</th>\n",
       "      <td>0</td>\n",
       "      <td>1</td>\n",
       "      <td>0</td>\n",
       "      <td>1</td>\n",
       "    </tr>\n",
       "    <tr>\n",
       "      <th>2</th>\n",
       "      <td>1</td>\n",
       "      <td>0</td>\n",
       "      <td>0</td>\n",
       "      <td>0</td>\n",
       "    </tr>\n",
       "    <tr>\n",
       "      <th>3</th>\n",
       "      <td>1</td>\n",
       "      <td>1</td>\n",
       "      <td>1</td>\n",
       "      <td>0</td>\n",
       "    </tr>\n",
       "    <tr>\n",
       "      <th>4</th>\n",
       "      <td>1</td>\n",
       "      <td>1</td>\n",
       "      <td>1</td>\n",
       "      <td>0</td>\n",
       "    </tr>\n",
       "  </tbody>\n",
       "</table>\n",
       "</div>"
      ],
      "text/plain": [
       "   Cat 1  Cat 2  Cat 3  Cat 4\n",
       "0      0      0      0      1\n",
       "1      0      1      0      1\n",
       "2      1      0      0      0\n",
       "3      1      1      1      0\n",
       "4      1      1      1      0"
      ]
     },
     "execution_count": 158,
     "metadata": {},
     "output_type": "execute_result"
    }
   ],
   "source": [
    "proxy.iloc[:,5:].head()"
   ]
  },
  {
   "cell_type": "code",
   "execution_count": 81,
   "metadata": {},
   "outputs": [
    {
     "data": {
      "text/html": [
       "<div>\n",
       "<style scoped>\n",
       "    .dataframe tbody tr th:only-of-type {\n",
       "        vertical-align: middle;\n",
       "    }\n",
       "\n",
       "    .dataframe tbody tr th {\n",
       "        vertical-align: top;\n",
       "    }\n",
       "\n",
       "    .dataframe thead th {\n",
       "        text-align: right;\n",
       "    }\n",
       "</style>\n",
       "<table border=\"1\" class=\"dataframe\">\n",
       "  <thead>\n",
       "    <tr style=\"text-align: right;\">\n",
       "      <th></th>\n",
       "      <th>Feature 1</th>\n",
       "      <th>Feature 2</th>\n",
       "      <th>Feature 3</th>\n",
       "      <th>Feature 4</th>\n",
       "      <th>Feature 5</th>\n",
       "    </tr>\n",
       "  </thead>\n",
       "  <tbody>\n",
       "    <tr>\n",
       "      <th>Feature 1</th>\n",
       "      <td>1.000000</td>\n",
       "      <td>1.000000</td>\n",
       "      <td>0.975059</td>\n",
       "      <td>0.990414</td>\n",
       "      <td>-0.078924</td>\n",
       "    </tr>\n",
       "    <tr>\n",
       "      <th>Feature 2</th>\n",
       "      <td>1.000000</td>\n",
       "      <td>1.000000</td>\n",
       "      <td>0.975059</td>\n",
       "      <td>0.990414</td>\n",
       "      <td>-0.078924</td>\n",
       "    </tr>\n",
       "    <tr>\n",
       "      <th>Feature 3</th>\n",
       "      <td>0.975059</td>\n",
       "      <td>0.975059</td>\n",
       "      <td>1.000000</td>\n",
       "      <td>0.967815</td>\n",
       "      <td>-0.122876</td>\n",
       "    </tr>\n",
       "    <tr>\n",
       "      <th>Feature 4</th>\n",
       "      <td>0.990414</td>\n",
       "      <td>0.990414</td>\n",
       "      <td>0.967815</td>\n",
       "      <td>1.000000</td>\n",
       "      <td>-0.065173</td>\n",
       "    </tr>\n",
       "    <tr>\n",
       "      <th>Feature 5</th>\n",
       "      <td>-0.078924</td>\n",
       "      <td>-0.078924</td>\n",
       "      <td>-0.122876</td>\n",
       "      <td>-0.065173</td>\n",
       "      <td>1.000000</td>\n",
       "    </tr>\n",
       "  </tbody>\n",
       "</table>\n",
       "</div>"
      ],
      "text/plain": [
       "           Feature 1  Feature 2  Feature 3  Feature 4  Feature 5\n",
       "Feature 1   1.000000   1.000000   0.975059   0.990414  -0.078924\n",
       "Feature 2   1.000000   1.000000   0.975059   0.990414  -0.078924\n",
       "Feature 3   0.975059   0.975059   1.000000   0.967815  -0.122876\n",
       "Feature 4   0.990414   0.990414   0.967815   1.000000  -0.065173\n",
       "Feature 5  -0.078924  -0.078924  -0.122876  -0.065173   1.000000"
      ]
     },
     "execution_count": 81,
     "metadata": {},
     "output_type": "execute_result"
    }
   ],
   "source": [
    "proxy.corr(method ='pearson') "
   ]
  },
  {
   "cell_type": "code",
   "execution_count": 86,
   "metadata": {},
   "outputs": [
    {
     "data": {
      "text/plain": [
       "<matplotlib.axes._subplots.AxesSubplot at 0x7fb47e42b820>"
      ]
     },
     "execution_count": 86,
     "metadata": {},
     "output_type": "execute_result"
    },
    {
     "data": {
      "image/png": "[encoded data removed]",
      "text/plain": [
       "<Figure size 792x648 with 2 Axes>"
      ]
     },
     "metadata": {
      "needs_background": "light"
     },
     "output_type": "display_data"
    }
   ],
   "source": [
    "import seaborn as sns\n",
    "import matplotlib.pyplot as plt\n",
    "\n",
    "\n",
    "corr = proxy.corr()\n",
    "\n",
    "mask = np.triu(np.ones_like(corr, dtype=bool))\n",
    "\n",
    "f, ax = plt.subplots(figsize=(11, 9))\n",
    "cmap = sns.diverging_palette(230, 20, as_cmap=True)\n",
    "sns.heatmap(corr, mask=mask, cmap=cmap, vmax=.3, center=0,\n",
    "            square=True, linewidths=.5, cbar_kws={\"shrink\": .5})"
   ]
  },
  {
   "cell_type": "code",
   "execution_count": 39,
   "metadata": {},
   "outputs": [
    {
     "name": "stdout",
     "output_type": "stream",
     "text": [
      "R-squared: 1.000000\n"
     ]
    }
   ],
   "source": [
    "y=proxy['Feature 1']\n",
    "X=proxy['Feature 2']\n",
    "res = stats.linregress(X,y)\n",
    "print(f\"R-squared: {res.rvalue**2:.6f}\")"
   ]
  },
  {
   "cell_type": "code",
   "execution_count": 40,
   "metadata": {},
   "outputs": [
    {
     "name": "stdout",
     "output_type": "stream",
     "text": [
      "R-squared: 1.000000\n",
      "VIF of Feature 2 with Feature 1 inf\n",
      "\n",
      "R-squared: 0.950740\n",
      "VIF of Feature 3 with Feature 1 20.30056335221401\n",
      "\n",
      "R-squared: 0.980920\n",
      "VIF of Feature 4 with Feature 1 52.40998864414569\n",
      "\n",
      "R-squared: 0.006229\n",
      "VIF of Feature 5 with Feature 1 1.006268068628911\n",
      "\n"
     ]
    },
    {
     "name": "stderr",
     "output_type": "stream",
     "text": [
      "<ipython-input-40-66eb0fb8fd80>:10: RuntimeWarning: divide by zero encountered in double_scalars\n",
      "  vif = 1/(1-r2)\n"
     ]
    }
   ],
   "source": [
    "for i in np.arange(1,5):\n",
    "    \n",
    "    y=proxy['Feature 1']\n",
    "    \n",
    "    X=proxy.iloc[:,i]\n",
    "    \n",
    "    res = stats.linregress(X,y)\n",
    "    r2=res.rvalue**2\n",
    "    print(f\"R-squared: {res.rvalue**2:.6f}\")\n",
    "    vif = 1/(1-r2)\n",
    "    print ('VIF of Feature {} with {}'.format(i+1, \"Feature 1\"), vif)\n",
    "    print(\"\")"
   ]
  },
  {
   "cell_type": "code",
   "execution_count": 41,
   "metadata": {},
   "outputs": [],
   "source": [
    "from statsmodels.stats.outliers_influence import variance_inflation_factor\n",
    "\n",
    "def calc_vif(X):\n",
    "\n",
    "    # Calculating VIF\n",
    "    vif = pd.DataFrame()\n",
    "    vif[\"variables\"] = X.columns\n",
    "    vif[\"VIF\"] = [variance_inflation_factor(X.values, i) for i in range(X.shape[1])]\n",
    "\n",
    "    return(vif)"
   ]
  },
  {
   "cell_type": "code",
   "execution_count": 42,
   "metadata": {},
   "outputs": [
    {
     "name": "stderr",
     "output_type": "stream",
     "text": [
      "/opt/anaconda3/lib/python3.8/site-packages/statsmodels/stats/outliers_influence.py:193: RuntimeWarning: divide by zero encountered in double_scalars\n",
      "  vif = 1. / (1. - r_squared_i)\n"
     ]
    },
    {
     "data": {
      "text/html": [
       "<div>\n",
       "<style scoped>\n",
       "    .dataframe tbody tr th:only-of-type {\n",
       "        vertical-align: middle;\n",
       "    }\n",
       "\n",
       "    .dataframe tbody tr th {\n",
       "        vertical-align: top;\n",
       "    }\n",
       "\n",
       "    .dataframe thead th {\n",
       "        text-align: right;\n",
       "    }\n",
       "</style>\n",
       "<table border=\"1\" class=\"dataframe\">\n",
       "  <thead>\n",
       "    <tr style=\"text-align: right;\">\n",
       "      <th></th>\n",
       "      <th>variables</th>\n",
       "      <th>VIF</th>\n",
       "    </tr>\n",
       "  </thead>\n",
       "  <tbody>\n",
       "    <tr>\n",
       "      <th>0</th>\n",
       "      <td>Feature 1</td>\n",
       "      <td>inf</td>\n",
       "    </tr>\n",
       "    <tr>\n",
       "      <th>1</th>\n",
       "      <td>Feature 2</td>\n",
       "      <td>inf</td>\n",
       "    </tr>\n",
       "    <tr>\n",
       "      <th>2</th>\n",
       "      <td>Feature 3</td>\n",
       "      <td>46.354710</td>\n",
       "    </tr>\n",
       "    <tr>\n",
       "      <th>3</th>\n",
       "      <td>Feature 4</td>\n",
       "      <td>241.930343</td>\n",
       "    </tr>\n",
       "    <tr>\n",
       "      <th>4</th>\n",
       "      <td>Feature 5</td>\n",
       "      <td>13.250278</td>\n",
       "    </tr>\n",
       "  </tbody>\n",
       "</table>\n",
       "</div>"
      ],
      "text/plain": [
       "   variables         VIF\n",
       "0  Feature 1         inf\n",
       "1  Feature 2         inf\n",
       "2  Feature 3   46.354710\n",
       "3  Feature 4  241.930343\n",
       "4  Feature 5   13.250278"
      ]
     },
     "execution_count": 42,
     "metadata": {},
     "output_type": "execute_result"
    }
   ],
   "source": [
    "calc_vif(proxy)"
   ]
  },
  {
   "cell_type": "code",
   "execution_count": null,
   "metadata": {},
   "outputs": [],
   "source": [
    "import numpy as np\n",
    "import pandas as pd\n",
    "import time\n",
    "from statsmodels.stats.outliers_influence import variance_inflation_factor   \n",
    "from joblib import Parallel, delayed"
   ]
  },
  {
   "cell_type": "code",
   "execution_count": 78,
   "metadata": {},
   "outputs": [],
   "source": [
    "def calculate_vif_(X, thresh=5.0):\n",
    "    variables = [X.columns[i] for i in range(X.shape[1])]\n",
    "    dropped=True\n",
    "    while dropped:\n",
    "        dropped=False\n",
    "        \n",
    "        vif = Parallel(n_jobs=-1,verbose=5)(delayed(variance_inflation_factor)(X[variables].values, ix) \n",
    "                                            for ix in range(len(variables)))\n",
    " \n",
    "        maxloc = vif.index(max(vif))\n",
    "        if max(vif) > thresh:\n",
    "            print ('VIF is ' + str(max(vif)) + ' ' + 'dropping ' + X[variables].columns[maxloc])\n",
    "            \n",
    "            variables.pop(maxloc)\n",
    "            dropped=True\n",
    " \n",
    "    print('Remaining variables:')\n",
    "    print([variables])\n",
    "    return \n"
   ]
  },
  {
   "cell_type": "code",
   "execution_count": 79,
   "metadata": {},
   "outputs": [
    {
     "name": "stdout",
     "output_type": "stream",
     "text": [
      "VIF is inf dropping Feature 1\n",
      "VIF is 299.3857233076956 dropping Feature 2\n",
      "VIF is 70.87650502990464 dropping Feature 4\n",
      "Remaining variables:\n",
      "[['Feature 3', 'Feature 5']]\n"
     ]
    },
    {
     "name": "stderr",
     "output_type": "stream",
     "text": [
      "[Parallel(n_jobs=-1)]: Using backend LokyBackend with 8 concurrent workers.\n",
      "[Parallel(n_jobs=-1)]: Done   2 out of   5 | elapsed:    0.0s remaining:    0.0s\n",
      "[Parallel(n_jobs=-1)]: Done   5 out of   5 | elapsed:    0.0s finished\n",
      "[Parallel(n_jobs=-1)]: Using backend LokyBackend with 8 concurrent workers.\n",
      "[Parallel(n_jobs=-1)]: Done   2 out of   4 | elapsed:    0.0s remaining:    0.0s\n",
      "[Parallel(n_jobs=-1)]: Done   4 out of   4 | elapsed:    0.0s remaining:    0.0s\n",
      "[Parallel(n_jobs=-1)]: Done   4 out of   4 | elapsed:    0.0s finished\n",
      "[Parallel(n_jobs=-1)]: Using backend LokyBackend with 8 concurrent workers.\n",
      "[Parallel(n_jobs=-1)]: Done   3 out of   3 | elapsed:    0.0s remaining:    0.0s\n",
      "[Parallel(n_jobs=-1)]: Done   3 out of   3 | elapsed:    0.0s finished\n",
      "[Parallel(n_jobs=-1)]: Using backend LokyBackend with 8 concurrent workers.\n",
      "[Parallel(n_jobs=-1)]: Done   2 out of   2 | elapsed:    0.0s remaining:    0.0s\n",
      "[Parallel(n_jobs=-1)]: Done   2 out of   2 | elapsed:    0.0s finished\n"
     ]
    }
   ],
   "source": [
    "calculate_vif_(proxy)"
   ]
  },
  {
   "cell_type": "code",
   "execution_count": null,
   "metadata": {},
   "outputs": [],
   "source": []
  },
  {
   "cell_type": "code",
   "execution_count": 107,
   "metadata": {},
   "outputs": [
    {
     "name": "stdout",
     "output_type": "stream",
     "text": [
      "Association of Feature 2 with Feature 1 : 1.041232819658476\n",
      "Association of Feature 3 with Feature 1 : 0.989941985921839\n",
      "Association of Feature 4 with Feature 1 : 1.0213657514412269\n",
      "Association of Feature 5 with Feature 1 : 0.006485864925820933\n"
     ]
    }
   ],
   "source": [
    "for i in np.arange(1,5):\n",
    "\n",
    "    var1 = np.var(proxy['Feature 1'])\n",
    "    var2 = np.var(proxy.iloc[:,i])\n",
    "    cov = np.cov(proxy['Feature 1'], proxy.iloc[:,i])[0][1]\n",
    "    \n",
    "    asso = np.square(cov) / (var1*var2)\n",
    "\n",
    "    print ('Association of Feature {} with {} :'.format(i+1, \"Feature 1\"), asso)\n",
    "    "
   ]
  },
  {
   "cell_type": "code",
   "execution_count": 166,
   "metadata": {},
   "outputs": [
    {
     "name": "stdout",
     "output_type": "stream",
     "text": [
      "cosine distance between Feature 1 and Feature 2 1.0\n",
      "cosine distance between Feature 1 and Feature 3 0.9649002025515011\n",
      "cosine distance between Feature 1 and Feature 4 0.9978700494360173\n",
      "cosine distance between Feature 1 and Feature 5 0.873059148603771\n"
     ]
    },
    {
     "data": {
      "image/png": "[encoded data removed]",
      "text/plain": [
       "<Figure size 432x288 with 1 Axes>"
      ]
     },
     "metadata": {
      "needs_background": "light"
     },
     "output_type": "display_data"
    }
   ],
   "source": [
    "from scipy import spatial\n",
    "\n",
    "for i in np.arange(1,5):\n",
    "    \n",
    "    result = 1 - spatial.distance.cosine(proxy['Feature 1'], proxy.iloc[:,i])\n",
    "    print ('cosine distance between Feature 1 and Feature {}'.format(i+1), result)\n",
    "    \n",
    "    r = 1\n",
    "    d = 10 * r * (1 - result)\n",
    "\n",
    "    circle1=plt.Circle((0, 0), r, alpha=.5)\n",
    "    circle2=plt.Circle((d, 0), r, alpha=.5)\n",
    "\n",
    "    plt.ylim([-1.1, 1.1])\n",
    "    plt.xlim([-1.1, 1.1 + d])\n",
    "    fig = plt.gcf()\n",
    "    fig.gca().add_artist(circle1)\n",
    "    fig.gca().add_artist(circle2)\n",
    "\n",
    "    "
   ]
  },
  {
   "cell_type": "code",
   "execution_count": 152,
   "metadata": {},
   "outputs": [
    {
     "name": "stdout",
     "output_type": "stream",
     "text": [
      "Mutual info between Cat 1 and Cat 2 0.0014418857149821607\n",
      "Mutual info between Cat 1 and Cat 3 0.19127284867825473\n",
      "Mutual info between Cat 1 and Cat 4 0.6802920001921533\n"
     ]
    }
   ],
   "source": [
    "from sklearn.metrics import mutual_info_score\n",
    "for i in np.arange(6,9):\n",
    "    mi = mutual_info_score(proxy['Cat 1'], proxy.iloc[:,i])\n",
    "    print ('Mutual info between Cat 1 and {}'.format(proxy.iloc[:,i].name), mi)\n"
   ]
  },
  {
   "cell_type": "code",
   "execution_count": null,
   "metadata": {},
   "outputs": [],
   "source": []
  },
  {
   "cell_type": "markdown",
   "metadata": {},
   "source": [
    "<a id=\"gt\"> </a> \n",
    "\n",
    "<div class=\"alert alert-block alert-warning\">\n",
    "<span style=\"font-family:Futura Next; font-size:2em;\">Get in touch</span>\n",
    "</div>"
   ]
  },
  {
   "cell_type": "markdown",
   "metadata": {},
   "source": [
    "<img style=\"float: left; width: 80px; padding-right: 25px;\" src=\"preview.svg\">\n",
    "\n",
    "<span style=\"font-family:Futura Next; font-size:2.0em; float: left;\"> www.linkedin.com/in/srayagarwal</span>   \\\\\n",
    "\n",
    "\n",
    "<span style=\"font-family:Futura Next; font-size:2.0em; float: left;\"> www.linkedin.com/in/shashinmishra</span>\n"
   ]
  },
  {
   "cell_type": "code",
   "execution_count": null,
   "metadata": {},
   "outputs": [],
   "source": []
  }
 ],
 "metadata": {
  "kernelspec": {
   "display_name": "Python 3",
   "language": "python",
   "name": "python3"
  },
  "language_info": {
   "codemirror_mode": {
    "name": "ipython",
    "version": 3
   },
   "file_extension": ".py",
   "mimetype": "text/x-python",
   "name": "python",
   "nbconvert_exporter": "python",
   "pygments_lexer": "ipython3",
   "version": "3.8.3"
  }
 },
 "nbformat": 4,
 "nbformat_minor": 4
}
