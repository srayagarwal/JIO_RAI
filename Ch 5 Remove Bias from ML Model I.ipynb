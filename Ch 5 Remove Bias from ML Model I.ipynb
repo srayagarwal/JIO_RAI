{
 "cells": [
  {
   "cell_type": "markdown",
   "metadata": {},
   "source": [
    "<a id=\"1\"> </a> \n",
    "\n",
    "<div class=\"alert alert-block alert-warning\">\n",
    "<span style=\"font-family:Futura Next; font-size:2em;\">Loading libraries</span>\n",
    "</div>"
   ]
  },
  {
   "cell_type": "code",
   "execution_count": 1,
   "metadata": {},
   "outputs": [],
   "source": [
    "import logging\n",
    "import numpy\n",
    "import numpy as np\n",
    "import pandas as pd\n",
    "from math import *\n",
    "from datetime import datetime\n",
    "from operator import itemgetter\n",
    "from zipfile import ZipFile\n",
    "from io import BytesIO\n",
    "import pickle\n",
    "from urllib.request import urlopen\n",
    "\n",
    "from IPython.display import Image\n",
    "import matplotlib.pyplot as plt\n",
    "import seaborn as sns\n",
    "import plotly.express as px\n",
    "\n",
    "from numpy import inf\n",
    "from scipy.stats import kurtosis, skew\n",
    "\n",
    "from sklearn.metrics import accuracy_score\n",
    "from sklearn.model_selection import train_test_split\n",
    "from sklearn import ensemble\n",
    "from sklearn.metrics import confusion_matrix\n",
    "from sklearn.metrics import classification_report\n",
    "from sklearn.metrics import roc_auc_score\n",
    "from sklearn import metrics\n",
    "from sklearn.linear_model import LogisticRegression\n",
    "from sklearn.linear_model import LinearRegression\n",
    "from sklearn.metrics import average_precision_score\n",
    "from sklearn.metrics import mean_squared_error\n",
    "\n",
    "\n",
    "\n",
    "import warnings\n",
    "warnings.filterwarnings('ignore')\n",
    "\n",
    "from functions import *\n",
    "from fair_func import *"
   ]
  },
  {
   "cell_type": "code",
   "execution_count": 2,
   "metadata": {},
   "outputs": [],
   "source": [
    "from pandas.api.types import CategoricalDtype\n"
   ]
  },
  {
   "cell_type": "markdown",
   "metadata": {},
   "source": [
    "<span style=\"float:right;\"> [TOC](#TOC) </span>"
   ]
  },
  {
   "cell_type": "markdown",
   "metadata": {},
   "source": [
    "----"
   ]
  },
  {
   "cell_type": "markdown",
   "metadata": {},
   "source": [
    "<a id=\"2\"> </a> \n",
    "\n",
    "<div class=\"alert alert-block alert-warning\">\n",
    "<span style=\"font-family:Futura Next; font-size:2em;\">Loading and preparing the data</span>\n",
    "</div>"
   ]
  },
  {
   "cell_type": "code",
   "execution_count": 3,
   "metadata": {},
   "outputs": [],
   "source": [
    "data = pd.read_csv('RAIdata.csv')"
   ]
  },
  {
   "cell_type": "markdown",
   "metadata": {},
   "source": [
    "----"
   ]
  },
  {
   "cell_type": "markdown",
   "metadata": {},
   "source": [
    "<a id=\"3\"> </a> \n",
    "\n",
    "<div class=\"alert alert-block alert-warning\">\n",
    "<span style=\"font-family:Futura Next; font-size:2em;\">Exploring data</span>\n",
    "</div>"
   ]
  },
  {
   "cell_type": "code",
   "execution_count": 4,
   "metadata": {},
   "outputs": [
    {
     "data": {
      "text/plain": [
       "(61321, 206)"
      ]
     },
     "execution_count": 4,
     "metadata": {},
     "output_type": "execute_result"
    }
   ],
   "source": [
    "data.shape"
   ]
  },
  {
   "cell_type": "code",
   "execution_count": 5,
   "metadata": {},
   "outputs": [
    {
     "data": {
      "text/plain": [
       "0.0    46752\n",
       "1.0    14569\n",
       "Name: Default, dtype: int64"
      ]
     },
     "execution_count": 5,
     "metadata": {},
     "output_type": "execute_result"
    }
   ],
   "source": [
    "data[\"Default\"].value_counts()"
   ]
  },
  {
   "cell_type": "code",
   "execution_count": 6,
   "metadata": {},
   "outputs": [
    {
     "data": {
      "text/html": [
       "<div>\n",
       "<style scoped>\n",
       "    .dataframe tbody tr th:only-of-type {\n",
       "        vertical-align: middle;\n",
       "    }\n",
       "\n",
       "    .dataframe tbody tr th {\n",
       "        vertical-align: top;\n",
       "    }\n",
       "\n",
       "    .dataframe thead th {\n",
       "        text-align: right;\n",
       "    }\n",
       "</style>\n",
       "<table border=\"1\" class=\"dataframe\">\n",
       "  <thead>\n",
       "    <tr style=\"text-align: right;\">\n",
       "      <th></th>\n",
       "      <th>0</th>\n",
       "      <th>1</th>\n",
       "      <th>2</th>\n",
       "      <th>3</th>\n",
       "      <th>4</th>\n",
       "    </tr>\n",
       "  </thead>\n",
       "  <tbody>\n",
       "    <tr>\n",
       "      <th>Unnamed: 0</th>\n",
       "      <td>0.000000</td>\n",
       "      <td>1.0000</td>\n",
       "      <td>2.000000</td>\n",
       "      <td>3.000000</td>\n",
       "      <td>4.0000</td>\n",
       "    </tr>\n",
       "    <tr>\n",
       "      <th>Age</th>\n",
       "      <td>54.000000</td>\n",
       "      <td>52.0000</td>\n",
       "      <td>28.000000</td>\n",
       "      <td>40.000000</td>\n",
       "      <td>31.0000</td>\n",
       "    </tr>\n",
       "    <tr>\n",
       "      <th>AppliedAmount</th>\n",
       "      <td>8505.000000</td>\n",
       "      <td>2230.0000</td>\n",
       "      <td>530.000000</td>\n",
       "      <td>1380.000000</td>\n",
       "      <td>530.0000</td>\n",
       "    </tr>\n",
       "    <tr>\n",
       "      <th>DebtToIncome</th>\n",
       "      <td>0.000000</td>\n",
       "      <td>0.0000</td>\n",
       "      <td>0.000000</td>\n",
       "      <td>0.000000</td>\n",
       "      <td>0.0000</td>\n",
       "    </tr>\n",
       "    <tr>\n",
       "      <th>ExpectedLoss</th>\n",
       "      <td>0.118622</td>\n",
       "      <td>0.0592</td>\n",
       "      <td>0.048764</td>\n",
       "      <td>0.071894</td>\n",
       "      <td>0.0437</td>\n",
       "    </tr>\n",
       "    <tr>\n",
       "      <th>...</th>\n",
       "      <td>...</td>\n",
       "      <td>...</td>\n",
       "      <td>...</td>\n",
       "      <td>...</td>\n",
       "      <td>...</td>\n",
       "    </tr>\n",
       "    <tr>\n",
       "      <th>WorkExperience_2To5Years</th>\n",
       "      <td>0.000000</td>\n",
       "      <td>1.0000</td>\n",
       "      <td>1.000000</td>\n",
       "      <td>0.000000</td>\n",
       "      <td>0.0000</td>\n",
       "    </tr>\n",
       "    <tr>\n",
       "      <th>WorkExperience_5To10Years</th>\n",
       "      <td>1.000000</td>\n",
       "      <td>0.0000</td>\n",
       "      <td>0.000000</td>\n",
       "      <td>1.000000</td>\n",
       "      <td>0.0000</td>\n",
       "    </tr>\n",
       "    <tr>\n",
       "      <th>WorkExperience_LessThan2Years</th>\n",
       "      <td>0.000000</td>\n",
       "      <td>0.0000</td>\n",
       "      <td>0.000000</td>\n",
       "      <td>0.000000</td>\n",
       "      <td>1.0000</td>\n",
       "    </tr>\n",
       "    <tr>\n",
       "      <th>WorkExperience_MoreThan25Years</th>\n",
       "      <td>0.000000</td>\n",
       "      <td>0.0000</td>\n",
       "      <td>0.000000</td>\n",
       "      <td>0.000000</td>\n",
       "      <td>0.0000</td>\n",
       "    </tr>\n",
       "    <tr>\n",
       "      <th>Young</th>\n",
       "      <td>0.000000</td>\n",
       "      <td>0.0000</td>\n",
       "      <td>1.000000</td>\n",
       "      <td>0.000000</td>\n",
       "      <td>1.0000</td>\n",
       "    </tr>\n",
       "  </tbody>\n",
       "</table>\n",
       "<p>206 rows × 5 columns</p>\n",
       "</div>"
      ],
      "text/plain": [
       "                                          0          1           2  \\\n",
       "Unnamed: 0                         0.000000     1.0000    2.000000   \n",
       "Age                               54.000000    52.0000   28.000000   \n",
       "AppliedAmount                   8505.000000  2230.0000  530.000000   \n",
       "DebtToIncome                       0.000000     0.0000    0.000000   \n",
       "ExpectedLoss                       0.118622     0.0592    0.048764   \n",
       "...                                     ...        ...         ...   \n",
       "WorkExperience_2To5Years           0.000000     1.0000    1.000000   \n",
       "WorkExperience_5To10Years          1.000000     0.0000    0.000000   \n",
       "WorkExperience_LessThan2Years      0.000000     0.0000    0.000000   \n",
       "WorkExperience_MoreThan25Years     0.000000     0.0000    0.000000   \n",
       "Young                              0.000000     0.0000    1.000000   \n",
       "\n",
       "                                          3         4  \n",
       "Unnamed: 0                         3.000000    4.0000  \n",
       "Age                               40.000000   31.0000  \n",
       "AppliedAmount                   1380.000000  530.0000  \n",
       "DebtToIncome                       0.000000    0.0000  \n",
       "ExpectedLoss                       0.071894    0.0437  \n",
       "...                                     ...       ...  \n",
       "WorkExperience_2To5Years           0.000000    0.0000  \n",
       "WorkExperience_5To10Years          1.000000    0.0000  \n",
       "WorkExperience_LessThan2Years      0.000000    1.0000  \n",
       "WorkExperience_MoreThan25Years     0.000000    0.0000  \n",
       "Young                              0.000000    1.0000  \n",
       "\n",
       "[206 rows x 5 columns]"
      ]
     },
     "execution_count": 6,
     "metadata": {},
     "output_type": "execute_result"
    }
   ],
   "source": [
    "data.head().T"
   ]
  },
  {
   "cell_type": "code",
   "execution_count": 7,
   "metadata": {},
   "outputs": [],
   "source": [
    "#pd.DataFrame(data.describe().T).to_csv('data_describe.csv')"
   ]
  },
  {
   "cell_type": "markdown",
   "metadata": {},
   "source": [
    "<div class=\"alert alert-block alert-success\">\n",
    "<b>Inference:</b>\n",
    "We can infer that the data has more 0's (False) when it comes to defaulter compared to 1's (True).  \n",
    "Thus there are more non-defaulters than defaulters.\n",
    "</div>"
   ]
  },
  {
   "cell_type": "markdown",
   "metadata": {},
   "source": [
    "<span style=\"float:right;\"> [TOC](#TOC) </span>"
   ]
  },
  {
   "cell_type": "markdown",
   "metadata": {},
   "source": [
    "---"
   ]
  },
  {
   "cell_type": "code",
   "execution_count": 8,
   "metadata": {},
   "outputs": [],
   "source": [
    "#0 if favourable [false, default = false]\n",
    "#1 if unfavourable [true, default = True]\n",
    "fav=0\n",
    "unfav=int(not fav)"
   ]
  },
  {
   "cell_type": "code",
   "execution_count": 9,
   "metadata": {},
   "outputs": [],
   "source": [
    "a='Gender_0.0' #Male\n",
    "b='Education_5.0' #Higher Ed\n",
    "c='Young' # Age group\n",
    "d='HomeOwnershipType_1.0' #Owner \n",
    "e='HomeOwnershipType_8.0' #Mortgages\n",
    "f='EmploymentStatus_5.0' #Entrepreneur\n",
    "g=\"Tenant\" #Tenant\n",
    "\n",
    "i='LanguageCode_1' #Estonian\n",
    "j='LanguageCode_2' #English\n",
    "k=\"NrOfDependantslessthan3\" #No of dependent less than 10 years\n",
    "l='MaritalStatus_1.0' #Married\n",
    "m='MaritalStatus_3.0' #Single\n",
    "n='MaritalStatus_4.0' #Divorced\n",
    "\n",
    "p=\"WrExLess10\" #Work ex less than 10 years\n",
    "q=\"WrExLess5\" #Work ex less than 5 years\n"
   ]
  },
  {
   "cell_type": "markdown",
   "metadata": {},
   "source": [
    "<div class=\"alert alert-block alert-info\">\n",
    "<b>Remember:</b> \n",
    "\n",
    "- Statistical Parity Difference should be between -0.1 and 0.1\n",
    "- Disparate Impact should be between 0.90 and 1.10\n",
    "- Negative sign shows that: the unprivileged group is worse in favourable outcome that privileged class (as the formula used it probability of unprivileged - probability of privileged), so in case you see a positive value, you may want to reconsider your choice of privileged and unprivileged groups <b>using the next two plots</b>\n",
    "</div>\n"
   ]
  },
  {
   "cell_type": "code",
   "execution_count": 10,
   "metadata": {},
   "outputs": [],
   "source": [
    "choice = 'dep_4_wl10' #'MaritalStatus_1.0'\n",
    "pval = 0 #privileged : see the above heatmaps\n",
    "upval = int(not pval) #Unprivileged\n",
    "#['HomeOwnershipType_8.0', 'MaritalStatus_1.0', 'MaritalStatus_3.0', 'MaritalStatus_4.0', 'WrExLess10']"
   ]
  },
  {
   "cell_type": "code",
   "execution_count": 11,
   "metadata": {},
   "outputs": [],
   "source": [
    "label_names=['Default']\n",
    "protected_attribute_names=[choice]\n",
    "privileged_groups=[{choice: pval}]\n",
    "unprivileged_groups=[{choice: upval }]"
   ]
  },
  {
   "cell_type": "code",
   "execution_count": 12,
   "metadata": {},
   "outputs": [
    {
     "data": {
      "image/png": "[encoded data removed]",
      "text/plain": [
       "<Figure size 720x360 with 1 Axes>"
      ]
     },
     "metadata": {
      "needs_background": "light"
     },
     "output_type": "display_data"
    }
   ],
   "source": [
    "plt.subplots(figsize=(10,5))\n",
    "plotdf=pd.crosstab(data['MaritalStatus_1.0'], data['Default'], rownames=['Divorced'])\n",
    "ax=sns.heatmap(plotdf, annot=True, fmt='g', cbar=False, annot_kws={'size':20})    #axes.plot(vc)\n",
    "plt.xlabel('Default', fontsize=18)\n",
    "plt.ylabel('Married', fontsize=16)\n",
    "\n",
    "plt.show()    #axes.plot(vc)\n",
    "plt.show()"
   ]
  },
  {
   "cell_type": "code",
   "execution_count": null,
   "metadata": {},
   "outputs": [],
   "source": []
  },
  {
   "cell_type": "code",
   "execution_count": 13,
   "metadata": {},
   "outputs": [
    {
     "data": {
      "image/png": "[encoded data removed]",
      "text/plain": [
       "<Figure size 720x360 with 1 Axes>"
      ]
     },
     "metadata": {
      "needs_background": "light"
     },
     "output_type": "display_data"
    }
   ],
   "source": [
    "plt.subplots(figsize=(10,5))\n",
    "plotdf=pd.crosstab(data['WrExLess5'], data['Default'], rownames=['Divorced'])\n",
    "ax=sns.heatmap(plotdf, annot=True, fmt='g', cbar=False, annot_kws={'size':20})    #axes.plot(vc)\n",
    "plt.xlabel('Default', fontsize=18)\n",
    "plt.ylabel('Work Ex Less 5', fontsize=16)\n",
    "\n",
    "plt.show()    #axes.plot(vc)\n",
    "plt.show()"
   ]
  },
  {
   "cell_type": "code",
   "execution_count": null,
   "metadata": {},
   "outputs": [],
   "source": []
  },
  {
   "cell_type": "code",
   "execution_count": 14,
   "metadata": {},
   "outputs": [
    {
     "data": {
      "image/png": "[encoded data removed]",
      "text/plain": [
       "<Figure size 720x360 with 1 Axes>"
      ]
     },
     "metadata": {
      "needs_background": "light"
     },
     "output_type": "display_data"
    }
   ],
   "source": [
    "plt.subplots(figsize=(10,5))\n",
    "plotdf=pd.crosstab(data['NrOfDependants_3'], data['Default'], rownames=['Divorced'])\n",
    "ax=sns.heatmap(plotdf, annot=True, fmt='g', cbar=False, annot_kws={'size':20})    #axes.plot(vc)\n",
    "plt.xlabel('Default', fontsize=18)\n",
    "plt.ylabel('No of Dep Less 3', fontsize=16)\n",
    "\n",
    "plt.show()    #axes.plot(vc)\n",
    "plt.show()"
   ]
  },
  {
   "cell_type": "code",
   "execution_count": null,
   "metadata": {},
   "outputs": [],
   "source": []
  },
  {
   "cell_type": "code",
   "execution_count": 15,
   "metadata": {},
   "outputs": [],
   "source": [
    "choice = 'dep_4_wl10' #'MaritalStatus_1.0'\n",
    "pval = 0 #privileged : see the above heatmaps\n",
    "upval = int(not pval) #Unprivileged\n",
    "#['HomeOwnershipType_8.0', 'MaritalStatus_1.0', 'MaritalStatus_3.0', 'MaritalStatus_4.0', 'WrExLess10']"
   ]
  },
  {
   "cell_type": "code",
   "execution_count": 16,
   "metadata": {},
   "outputs": [],
   "source": [
    "data['dep_MS4_wex10'] = data[['NrOfDependantslessthan3','MaritalStatus_4.0', 'WrExLess10']].min(axis=1)"
   ]
  },
  {
   "cell_type": "code",
   "execution_count": 17,
   "metadata": {},
   "outputs": [
    {
     "data": {
      "image/png": "[encoded data removed]",
      "text/plain": [
       "<Figure size 432x288 with 1 Axes>"
      ]
     },
     "metadata": {
      "needs_background": "light"
     },
     "output_type": "display_data"
    }
   ],
   "source": [
    "plotdf=pd.crosstab(data['dep_MS4_wex10'], data['Default'])\n",
    "ax=sns.heatmap(plotdf, annot=True, fmt='g', cbar=False)    #axes.plot(vc)\n",
    "plt.show()\n",
    "#print (type(axes))\n"
   ]
  },
  {
   "cell_type": "code",
   "execution_count": null,
   "metadata": {},
   "outputs": [],
   "source": []
  },
  {
   "cell_type": "markdown",
   "metadata": {},
   "source": [
    "<a id=\"5\"> </a> \n",
    "\n",
    "<div class=\"alert alert-block alert-warning\">\n",
    "<span style=\"font-family:Futura Next; font-size:2em;\">Removing bias from data using reweighting technique</span>\n",
    "</div>"
   ]
  },
  {
   "cell_type": "markdown",
   "metadata": {},
   "source": [
    "(https://link.springer.com/content/pdf/10.1007%2Fs10115-011-0463-8.pdf)\n",
    "\n",
    "The tuples in the training dataset are assigned weights. By carefully choosing the weights, the training dataset can be made discrimination-free w.r.t. ${S}$ without having to change any of the labels. The weights on the tuples can be used directly. \n",
    "\n",
    "*Note: Basic t-test that will reveal bias is the two-sample t test*"
   ]
  },
  {
   "cell_type": "markdown",
   "metadata": {},
   "source": [
    "**Discrimination:** \n",
    "\n",
    "$$\n",
    "\\begin{align}\n",
    "\\frac{(X_{S}=advantageous | X_{Class}=positive)}{X_{S}=advantageous} - \\frac{(X_{S}= disadvantageous | X_{Class}=positive)}{X_{S}= disadvantageous}\n",
    "\\end{align}\n",
    "$$\n",
    "\n",
    "\n",
    "**Weight:**\n",
    "$$\n",
    "\\begin{align}\n",
    "\\frac{P_{expected}(S=X_{S} \\ and \\ Class=X_{Class})}{P_{observed}(S=X_{S} \\ and \\ Class=X_{Class})}\n",
    "\\end{align}\n",
    "$$\n",
    "\n",
    "Thus, there will be four categories of weights when:\n",
    "\n",
    "\n",
    "- $X_{S}$ = advantageous, $X_{Class}$ = positive [Privileged and favourable]\n",
    "- $X_{S}$ = advantageous, $X_{Class}$ = negative [Privileged and unfavourable]\n",
    "- $X_{S}$ = disadvantageous, $X_{Class}$ = positive [Unprivileged and favourable]\n",
    "- $X_{S}$ = disadvantageous, $X_{Class}$ = negative [Unprivileged and unfavourable]"
   ]
  },
  {
   "cell_type": "markdown",
   "metadata": {},
   "source": [
    "<div class=\"alert alert-block alert-info\">\n",
    "<b>Remember:</b> \n",
    "Reweighing is one of those methods that has zero or less trade-off on accurcay of the algorithm. It can be also used for multi-class target variable and multi-level sensitive feature. Furthermore, it can be used for all types of supervised learning algorithms\n",
    "</div>"
   ]
  },
  {
   "cell_type": "code",
   "execution_count": 18,
   "metadata": {},
   "outputs": [],
   "source": [
    "def Reweighing1 (data, choice, target_feature, pval, upval, fav=0, unfav=1):\n",
    "\n",
    "\n",
    "    dummy = np.repeat(1, len(data)) \n",
    "    data['dummy'] = dummy\n",
    "\n",
    "    n = np.sum(data['dummy']) #Total number of instances\n",
    "    sa = np.sum(data['dummy'][data[choice]==pval]) #Total number of privileged\n",
    "    sd = np.sum(data['dummy'][data[choice]==upval]) #Total number of unprivileged\n",
    "    ypos = np.sum(data['dummy'][data[target_feature]==fav]) #Total number of favourable\n",
    "    yneg = np.sum(data['dummy'][data[target_feature]==unfav]) #Total number of unfavourable\n",
    "    \n",
    "    data_sa_ypos = data[(data[choice]==pval) & (data[target_feature]==fav)] # priviliged and favourable\n",
    "    data_sa_yneg = data[(data[choice]==pval) & (data[target_feature]==unfav)] # priviliged and unfavourable\n",
    "    data_sd_ypos = data[(data[choice]==upval) & (data[target_feature]==fav)] # unpriviliged and favourable\n",
    "    data_sd_yneg = data[(data[choice]==upval) & (data[target_feature]==unfav)] # unpriviliged and unfavourable\n",
    "\n",
    "    sa_ypos = np.sum(data_sa_ypos['dummy']) #Total number of privileged and favourable\n",
    "    sa_yneg = np.sum(data_sa_yneg['dummy']) #Total number of privileged and unfavourable\n",
    "    sd_ypos = np.sum(data_sd_ypos['dummy']) #Total number of unprivileged and favourable\n",
    "    sd_yneg = np.sum(data_sd_yneg['dummy']) #Total number of unprivileged and unfavourable\n",
    "\n",
    "    w_sa_ypos= (ypos*sa) / (n*sa_ypos) #weight for privileged and favourable\n",
    "    w_sa_yneg = (yneg*sa) / (n*sa_yneg) #weight for privileged and unfavourable\n",
    "    w_sd_ypos = (ypos*sd) / (n*sd_ypos) #weight for unprivileged and favourable\n",
    "    w_sd_yneg = (yneg*sd) / (n*sd_yneg) #weight for unprivileged and unfavourable\n",
    "\n",
    "    datatest=data #.copy()\n",
    "    \n",
    "    print (w_sa_ypos, w_sa_yneg, w_sd_ypos, w_sd_yneg)\n",
    "    \n",
    "    DiscriminationBefore=(sa_ypos/sa)-(sd_ypos/sd)\n",
    "    DiscriminationAfter=(sa_ypos/sa * w_sa_ypos)-(sd_ypos/sd * w_sd_ypos)\n",
    "\n",
    "\n",
    "    print (DiscriminationBefore, DiscriminationAfter)\n",
    "    \n",
    "    datatest['NewWeights']= np.repeat(999, len(datatest)) \n",
    "    datatest.loc[(datatest[choice]==pval) & (datatest[target_feature]==fav), 'NewWeights'] = w_sa_ypos\n",
    "    datatest.loc[(datatest[choice]==pval) & (datatest[target_feature]==unfav), 'NewWeights'] = w_sa_yneg\n",
    "    datatest.loc[(datatest[choice]==upval) & (datatest[target_feature]==fav), 'NewWeights'] = w_sd_ypos\n",
    "    datatest.loc[(datatest[choice]==upval) & (datatest[target_feature]==unfav), 'NewWeights'] = w_sd_yneg\n",
    "\n",
    "    return datatest['NewWeights']"
   ]
  },
  {
   "cell_type": "code",
   "execution_count": 19,
   "metadata": {},
   "outputs": [],
   "source": [
    "#data['dep_MS4_wex10'] = data[['NrOfDependantslessthan3','MaritalStatus_4.0', 'WrExLess10']].min(axis=1)\n",
    "#data['Combined_protected_group'] = np.where(((data['WrExLess10'] == 0) & (data['MaritalStatus_4.0'] == 0) | (data['NrOfDependantslessthan3'] == 0)),0, 1)\n",
    "data['Combined_protected_group'] = np.where((data['WrExLess10'] == 0) & (data['MaritalStatus_4.0'] == 0),0, 1)\n",
    "\n",
    "choice = 'Combined_protected_group'#'Combined_protected_group' #'NrOfDependantslessthan3'\n",
    "pval = 1\n",
    "upval = 0\n",
    "#NrOfDependantslessthan3  WrExLess10 MaritalStatus_1.0 'MaritalStatus_3.0'\n",
    "# 'MaritalStatus_4.0', 'dep_MS4_wex10'\n",
    "# dep_MS4_wex10"
   ]
  },
  {
   "cell_type": "code",
   "execution_count": 20,
   "metadata": {},
   "outputs": [
    {
     "data": {
      "image/png": "[encoded data removed]",
      "text/plain": [
       "<Figure size 432x288 with 1 Axes>"
      ]
     },
     "metadata": {
      "needs_background": "light"
     },
     "output_type": "display_data"
    }
   ],
   "source": [
    "plotdf=pd.crosstab(data[choice], data['Default'])\n",
    "ax=sns.heatmap(plotdf, annot=True, fmt='g', cbar=False)    #axes.plot(vc)\n",
    "plt.show()"
   ]
  },
  {
   "cell_type": "code",
   "execution_count": 21,
   "metadata": {},
   "outputs": [
    {
     "data": {
      "image/png": "[encoded data removed]",
      "text/plain": [
       "<Figure size 720x360 with 1 Axes>"
      ]
     },
     "metadata": {
      "needs_background": "light"
     },
     "output_type": "display_data"
    }
   ],
   "source": [
    "plt.subplots(figsize=(10,5))\n",
    "plotdf=pd.crosstab(data[choice], data['Default'])\n",
    "ax=sns.heatmap(plotdf, annot=True, fmt='g', cbar=False, annot_kws={'size':20})    #axes.plot(vc)\n",
    "plt.xlabel('Default', fontsize=18)\n",
    "plt.ylabel('Composite Featture', fontsize=16)\n",
    "\n",
    "plt.show()    #axes.plot(vc)\n",
    "plt.show()"
   ]
  },
  {
   "cell_type": "code",
   "execution_count": 22,
   "metadata": {},
   "outputs": [],
   "source": [
    "target_feature='Default'"
   ]
  },
  {
   "cell_type": "code",
   "execution_count": 23,
   "metadata": {},
   "outputs": [],
   "source": [
    "dummy = np.repeat(1, len(data)) \n",
    "data['dummy'] = dummy\n",
    "n = np.sum(data['dummy']) #Total number of instances"
   ]
  },
  {
   "cell_type": "code",
   "execution_count": 24,
   "metadata": {},
   "outputs": [
    {
     "data": {
      "text/plain": [
       "0"
      ]
     },
     "execution_count": 24,
     "metadata": {},
     "output_type": "execute_result"
    }
   ],
   "source": [
    "fav"
   ]
  },
  {
   "cell_type": "code",
   "execution_count": 25,
   "metadata": {},
   "outputs": [
    {
     "name": "stdout",
     "output_type": "stream",
     "text": [
      "Total Advantegous: 50770, Total Disdvantegous: 10551, Total Favourable: 46752, Total Unavourable: 14569\n"
     ]
    }
   ],
   "source": [
    "sa = np.sum(data['dummy'][data[choice]==pval]) #Total number of privileged\n",
    "sd = np.sum(data['dummy'][data[choice]==upval]) #Total number of unprivileged\n",
    "ypos = np.sum(data['dummy'][data[target_feature]==fav]) #Total number of favourable\n",
    "yneg = np.sum(data['dummy'][data[target_feature]==unfav]) #Total number of unfavourable\n",
    "\n",
    "print(\"Total Advantegous: {}, Total Disdvantegous: {}, Total Favourable: {}, Total Unavourable: {}\"\n",
    "      .format(sa, sd, ypos, yneg))"
   ]
  },
  {
   "cell_type": "code",
   "execution_count": 26,
   "metadata": {},
   "outputs": [],
   "source": [
    "data_sa_ypos = data[(data[choice]==pval) & (data[target_feature]==fav)] # priviliged and favourable\n",
    "data_sa_yneg = data[(data[choice]==pval) & (data[target_feature]==unfav)] # priviliged and unfavourable\n",
    "data_sd_ypos = data[(data[choice]==upval) & (data[target_feature]==fav)] # unpriviliged and favourable\n",
    "data_sd_yneg = data[(data[choice]==upval) & (data[target_feature]==unfav)] # unpriviliged and unfavourable"
   ]
  },
  {
   "cell_type": "code",
   "execution_count": 27,
   "metadata": {},
   "outputs": [
    {
     "name": "stdout",
     "output_type": "stream",
     "text": [
      "Total number of the Advantaged and Favourable Group: 39956\n",
      "Total number of Advantaged and Unfavourable Group: 10814\n",
      "Total number of Disadvantaged and Favourable Group: 6796\n",
      "Total number of Disadvantaged and Unfavourable Group: 3755\n"
     ]
    }
   ],
   "source": [
    "sa_ypos = np.sum(data_sa_ypos['dummy']) #Total number of privileged and favourable\n",
    "sa_yneg = np.sum(data_sa_yneg['dummy']) #Total number of privileged and unfavourable\n",
    "sd_ypos = np.sum(data_sd_ypos['dummy']) #Total number of unprivileged and favourable\n",
    "sd_yneg = np.sum(data_sd_yneg['dummy']) #Total number of unprivileged and unfavourable\n",
    "\n",
    "print(\"Total number of the Advantaged and Favourable Group: {}\".format(sa_ypos))\n",
    "print(\"Total number of Advantaged and Unfavourable Group: {}\".format(sa_yneg))\n",
    "print(\"Total number of Disadvantaged and Favourable Group: {}\".format(sd_ypos))\n",
    "print(\"Total number of Disadvantaged and Unfavourable Group: {}\".format(sd_yneg))\n"
   ]
  },
  {
   "cell_type": "code",
   "execution_count": 28,
   "metadata": {},
   "outputs": [
    {
     "name": "stdout",
     "output_type": "stream",
     "text": [
      "Weights for the Advantaged and Favourable Group: 0.968759835195764\n",
      "Weights for the Advantaged and Unfavourable Group: 1.1154274112186104\n",
      "Weights for the Disadvantaged and Favourable Group: 1.183671575179231\n",
      "Weights for the Disadvantaged and Unfavourable Group: 0.6675813515531147\n"
     ]
    }
   ],
   "source": [
    "w_sa_ypos= (ypos*sa) / (n*sa_ypos) #weight for privileged and favourable\n",
    "w_sa_yneg = (yneg*sa) / (n*sa_yneg) #weight for privileged and unfavourable\n",
    "w_sd_ypos = (ypos*sd) / (n*sd_ypos) #weight for unprivileged and favourable\n",
    "w_sd_yneg = (yneg*sd) / (n*sd_yneg) #weight for unprivileged and unfavourable\n",
    "\n",
    "print(\"Weights for the Advantaged and Favourable Group: {}\".format(w_sa_ypos))\n",
    "print(\"Weights for the Advantaged and Unfavourable Group: {}\".format(w_sa_yneg))\n",
    "print(\"Weights for the Disadvantaged and Favourable Group: {}\".format(w_sd_ypos))\n",
    "print(\"Weights for the Disadvantaged and Unfavourable Group: {}\".format(w_sd_yneg))\n"
   ]
  },
  {
   "cell_type": "code",
   "execution_count": 29,
   "metadata": {},
   "outputs": [
    {
     "name": "stdout",
     "output_type": "stream",
     "text": [
      "Discrimination Before: 0.14289063389212253, Discrimination After: 0.0\n"
     ]
    }
   ],
   "source": [
    "datatest=data #.copy()\n",
    "\n",
    "DiscriminationBefore=(sa_ypos/sa)-(sd_ypos/sd)\n",
    "DiscriminationAfter=(sa_ypos/sa * w_sa_ypos)-(sd_ypos/sd * w_sd_ypos)\n",
    "\n",
    "print(\"Discrimination Before: {}, Discrimination After: {}\".format(abs(DiscriminationBefore),\n",
    "                                                                           abs(DiscriminationAfter)))"
   ]
  },
  {
   "cell_type": "code",
   "execution_count": 30,
   "metadata": {},
   "outputs": [
    {
     "data": {
      "text/plain": [
       "0    0.96876\n",
       "1    0.96876\n",
       "2    0.96876\n",
       "3    0.96876\n",
       "4    0.96876\n",
       "Name: Weights, dtype: float64"
      ]
     },
     "execution_count": 30,
     "metadata": {},
     "output_type": "execute_result"
    }
   ],
   "source": [
    "datatest['Weights']= np.repeat(999, len(datatest)) \n",
    "datatest.loc[(datatest[choice]==pval) & (datatest[target_feature]==fav), 'Weights'] = w_sa_ypos\n",
    "datatest.loc[(datatest[choice]==pval) & (datatest[target_feature]==unfav), 'Weights'] = w_sa_yneg\n",
    "datatest.loc[(datatest[choice]==upval) & (datatest[target_feature]==fav), 'Weights'] = w_sd_ypos\n",
    "datatest.loc[(datatest[choice]==upval) & (datatest[target_feature]==unfav), 'Weights'] = w_sd_yneg\n",
    "datatest['Weights'].head()"
   ]
  },
  {
   "cell_type": "markdown",
   "metadata": {},
   "source": [
    "----"
   ]
  },
  {
   "cell_type": "markdown",
   "metadata": {},
   "source": [
    "<a id=\"5a\"> </a> \n",
    "\n",
    "<div class=\"alert alert-block alert-warning\">\n",
    "<span style=\"font-family:Futura Next; font-size:1.25em;\">Model development with and without weights</span>\n",
    "</div>"
   ]
  },
  {
   "cell_type": "markdown",
   "metadata": {},
   "source": [
    "**Missing value impuation for modelling**"
   ]
  },
  {
   "cell_type": "code",
   "execution_count": 31,
   "metadata": {},
   "outputs": [],
   "source": [
    "datatest['MonthlyPayment'].fillna((datatest['MonthlyPayment'].mean()), inplace=True)\n",
    "datatest['ExpectedLoss'].fillna((datatest['ExpectedLoss'].mean()), inplace=True)\n",
    "datatest['ProbabilityOfDefault'].fillna((datatest['ProbabilityOfDefault'].mean()), inplace=True)\n",
    "datatest['DebtToIncome'].fillna((datatest['DebtToIncome'].mean()), inplace=True)\n",
    "datatest['FreeCash'].fillna((datatest['FreeCash'].mean()), inplace=True)\n",
    "datatest['LossGivenDefault'].fillna(0, inplace=True)"
   ]
  },
  {
   "cell_type": "code",
   "execution_count": 32,
   "metadata": {},
   "outputs": [],
   "source": [
    "target=['Default']"
   ]
  },
  {
   "cell_type": "code",
   "execution_count": 33,
   "metadata": {},
   "outputs": [],
   "source": [
    "x=datatest.drop(columns=['Age', 'dummy','Default'])\n",
    "y=datatest['Default']"
   ]
  },
  {
   "cell_type": "code",
   "execution_count": 34,
   "metadata": {},
   "outputs": [],
   "source": [
    "X_train, X_test, y_train, y_test = train_test_split(x, y, test_size=0.30, random_state=6666)"
   ]
  },
  {
   "cell_type": "code",
   "execution_count": 35,
   "metadata": {},
   "outputs": [],
   "source": [
    "X_train_weights=X_train['Weights']\n",
    "X_test_weights=X_test['Weights']\n",
    "\n",
    "X_train1=X_train.drop(columns=[\"Weights\"])\n",
    "X_test1=X_test.drop(columns=[\"Weights\"])\n"
   ]
  },
  {
   "cell_type": "markdown",
   "metadata": {},
   "source": [
    "**Model without weights**"
   ]
  },
  {
   "cell_type": "code",
   "execution_count": 36,
   "metadata": {},
   "outputs": [],
   "source": [
    "clf_wow = LogisticRegression(random_state=0, solver='lbfgs',\n",
    "                              multi_class='ovr').fit(X_train1, y_train)\n"
   ]
  },
  {
   "cell_type": "code",
   "execution_count": 37,
   "metadata": {},
   "outputs": [],
   "source": [
    "y_pred_wow=clf_wow.predict(X_test1)\n",
    "y_pred_prob_wow=clf_wow.predict_proba(X_test1)[:,0]"
   ]
  },
  {
   "cell_type": "code",
   "execution_count": 38,
   "metadata": {},
   "outputs": [
    {
     "data": {
      "text/plain": [
       "'Combined_protected_group'"
      ]
     },
     "execution_count": 38,
     "metadata": {},
     "output_type": "execute_result"
    }
   ],
   "source": [
    "choice"
   ]
  },
  {
   "cell_type": "markdown",
   "metadata": {},
   "source": [
    "**Total accuracy of the model**"
   ]
  },
  {
   "cell_type": "code",
   "execution_count": 39,
   "metadata": {},
   "outputs": [
    {
     "name": "stdout",
     "output_type": "stream",
     "text": [
      "Accuracy of the model without weights: 0.7591998695439474\n"
     ]
    }
   ],
   "source": [
    "print(\"Accuracy of the model without weights:\", clf_wow.score(X_test1, y_test))"
   ]
  },
  {
   "cell_type": "markdown",
   "metadata": {},
   "source": [
    "**Accuracy difference between privileged and unprivileged group**"
   ]
  },
  {
   "cell_type": "code",
   "execution_count": 40,
   "metadata": {},
   "outputs": [
    {
     "name": "stdout",
     "output_type": "stream",
     "text": [
      "Accuracy difference between two groups: 14.819843910142861 %\n"
     ]
    }
   ],
   "source": [
    "A_wow=clf_wow.score(X_test1[X_test1[choice]==0], y_test[X_test1[choice]==0]) #pval = 0 is Priviliged\n",
    "B_wow=clf_wow.score(X_test1[X_test1[choice]==1], y_test[X_test1[choice]==1]) #pval = 1 is Unpriviliged\n",
    "print(\"Accuracy difference between two groups:\", abs(B_wow-A_wow)*100, \"%\")"
   ]
  },
  {
   "cell_type": "markdown",
   "metadata": {},
   "source": [
    "**Model with weights**"
   ]
  },
  {
   "cell_type": "markdown",
   "metadata": {},
   "source": [
    "<div class=\"alert alert-block alert-info\">\n",
    "<b>Remember:</b> Pass your sample weights obtained from reweighing as sample weights to training model.     \n",
    "\n",
    "<i>If we have a generic learning algorithm, increasing the sample weight should increase the effect of \n",
    "training on the sample.   \n",
    "e.g. if we have a batched loss, instead of a sum over the batch we would do a weighted sum so higher weighted \n",
    "samples dominate the loss.  \n",
    "In most cases, it is as simple as weighing the loss function, such that more important (or perhaps rarer) observations contribute more strongly to the loss and vice-versa</i>\n",
    "</div>"
   ]
  },
  {
   "cell_type": "code",
   "execution_count": 41,
   "metadata": {},
   "outputs": [],
   "source": [
    "clf_ww = LogisticRegression(random_state=0, solver='lbfgs',\n",
    "                              multi_class='ovr').fit(X_train1, y_train, sample_weight=X_train_weights)\n"
   ]
  },
  {
   "cell_type": "code",
   "execution_count": 42,
   "metadata": {},
   "outputs": [],
   "source": [
    "y_pred_ww = clf_ww.predict(X_test1)\n",
    "y_pred_prob_ww = clf_ww.predict_proba(X_test1)[:,0]"
   ]
  },
  {
   "cell_type": "markdown",
   "metadata": {},
   "source": [
    "**Total accuracy of the model with weights**"
   ]
  },
  {
   "cell_type": "code",
   "execution_count": 43,
   "metadata": {},
   "outputs": [
    {
     "name": "stdout",
     "output_type": "stream",
     "text": [
      "Accuracy of the model with weights: 0.7614284937761592\n"
     ]
    }
   ],
   "source": [
    "print(\"Accuracy of the model with weights:\", clf_ww.score(X_test1, y_test))"
   ]
  },
  {
   "cell_type": "markdown",
   "metadata": {},
   "source": [
    "**Accuracy difference between privileged and unprivileged group (model with weights)**"
   ]
  },
  {
   "cell_type": "code",
   "execution_count": 44,
   "metadata": {},
   "outputs": [
    {
     "name": "stdout",
     "output_type": "stream",
     "text": [
      "Accuracy difference between two groups: 13.550071515714624 %\n"
     ]
    }
   ],
   "source": [
    "A_ww=clf_ww.score(X_test1[X_test1[choice]==0], y_test[X_test1[choice]==0])\n",
    "B_ww=clf_ww.score(X_test1[X_test1[choice]==1], y_test[X_test1[choice]==1])\n",
    "print(\"Accuracy difference between two groups:\", abs(B_ww-A_ww)*100, \"%\" )"
   ]
  },
  {
   "cell_type": "markdown",
   "metadata": {},
   "source": [
    "<div class=\"alert alert-block alert-success\">\n",
    "<b>Inference:</b>\n",
    "The overall accuracy of models with weights (weights generated by reweighing algorithm) has improved by few points while the overall accuracy difference between privileged group and unprivileged group has become narrower. A win-win situation\n",
    "</div>"
   ]
  },
  {
   "cell_type": "markdown",
   "metadata": {},
   "source": [
    "### Various other accuracy metrics before and after reweighing"
   ]
  },
  {
   "cell_type": "code",
   "execution_count": 45,
   "metadata": {},
   "outputs": [],
   "source": [
    "model_perf=[model_metrics(y_test, y_pred_prob_ww, y_pred_prob_wow, \n",
    "                          y_pred_ww, y_pred_wow, X_test1)]\n",
    "\n",
    "headers=[\"AUC\", \"Gini\", \"Avg Precision Score\", \"Precision\", \"Sensitivity\", \"False Negative Rate\", \n",
    "         \"F1 Score\", \"Total Cost\"]\n",
    "\n",
    "\n",
    "#full_metric={'With Weights':B, \n",
    "#             'Without_Weights':list(ww[0]), 'Without_Weights':list(wow[0])}\n",
    "\n",
    "#compare_table=pd.DataFrame.from_dict(ww_wow)\n",
    "\n",
    "B = list(model_perf[0])[:len(list(model_perf[0]))//2]\n",
    "C = list(model_perf[0])[len(list(model_perf[0]))//2:]\n",
    "\n",
    "\n",
    "model_table={'Metrics':headers, \n",
    "             'With_Weights':B, 'Without_Weights':C}\n",
    "\n",
    "model_table_df=pd.DataFrame.from_dict(model_table)\n",
    "model_table_df.loc[8] = ['Total Cost (in Mn)', model_table_df.iloc[7,1]/10000000, model_table_df.iloc[7,2]/10000000]\n",
    "#model_table_df"
   ]
  },
  {
   "cell_type": "code",
   "execution_count": 46,
   "metadata": {},
   "outputs": [
    {
     "data": {
      "text/html": [
       "<div>\n",
       "<style scoped>\n",
       "    .dataframe tbody tr th:only-of-type {\n",
       "        vertical-align: middle;\n",
       "    }\n",
       "\n",
       "    .dataframe tbody tr th {\n",
       "        vertical-align: top;\n",
       "    }\n",
       "\n",
       "    .dataframe thead th {\n",
       "        text-align: right;\n",
       "    }\n",
       "</style>\n",
       "<table border=\"1\" class=\"dataframe\">\n",
       "  <thead>\n",
       "    <tr style=\"text-align: right;\">\n",
       "      <th></th>\n",
       "      <th>Metrics</th>\n",
       "      <th>With_Weights</th>\n",
       "      <th>Without_Weights</th>\n",
       "    </tr>\n",
       "  </thead>\n",
       "  <tbody>\n",
       "    <tr>\n",
       "      <th>0</th>\n",
       "      <td>AUC</td>\n",
       "      <td>3.670133e-01</td>\n",
       "      <td>3.551230e-01</td>\n",
       "    </tr>\n",
       "    <tr>\n",
       "      <th>1</th>\n",
       "      <td>Gini</td>\n",
       "      <td>-2.659734e-01</td>\n",
       "      <td>-2.897541e-01</td>\n",
       "    </tr>\n",
       "    <tr>\n",
       "      <th>2</th>\n",
       "      <td>Avg Precision Score</td>\n",
       "      <td>2.520993e-01</td>\n",
       "      <td>2.566500e-01</td>\n",
       "    </tr>\n",
       "    <tr>\n",
       "      <th>3</th>\n",
       "      <td>Precision</td>\n",
       "      <td>5.210526e-01</td>\n",
       "      <td>4.808576e-01</td>\n",
       "    </tr>\n",
       "    <tr>\n",
       "      <th>4</th>\n",
       "      <td>Sensitivity</td>\n",
       "      <td>4.494892e-02</td>\n",
       "      <td>7.128263e-02</td>\n",
       "    </tr>\n",
       "    <tr>\n",
       "      <th>5</th>\n",
       "      <td>False Negative Rate</td>\n",
       "      <td>9.550511e-01</td>\n",
       "      <td>9.287174e-01</td>\n",
       "    </tr>\n",
       "    <tr>\n",
       "      <th>6</th>\n",
       "      <td>F1 Score</td>\n",
       "      <td>8.275862e-02</td>\n",
       "      <td>1.241597e-01</td>\n",
       "    </tr>\n",
       "    <tr>\n",
       "      <th>7</th>\n",
       "      <td>Total Cost</td>\n",
       "      <td>1.389500e+06</td>\n",
       "      <td>1.464600e+06</td>\n",
       "    </tr>\n",
       "    <tr>\n",
       "      <th>8</th>\n",
       "      <td>Total Cost (in Mn)</td>\n",
       "      <td>1.389500e-01</td>\n",
       "      <td>1.464600e-01</td>\n",
       "    </tr>\n",
       "  </tbody>\n",
       "</table>\n",
       "</div>"
      ],
      "text/plain": [
       "               Metrics  With_Weights  Without_Weights\n",
       "0                  AUC  3.670133e-01     3.551230e-01\n",
       "1                 Gini -2.659734e-01    -2.897541e-01\n",
       "2  Avg Precision Score  2.520993e-01     2.566500e-01\n",
       "3            Precision  5.210526e-01     4.808576e-01\n",
       "4          Sensitivity  4.494892e-02     7.128263e-02\n",
       "5  False Negative Rate  9.550511e-01     9.287174e-01\n",
       "6             F1 Score  8.275862e-02     1.241597e-01\n",
       "7           Total Cost  1.389500e+06     1.464600e+06\n",
       "8   Total Cost (in Mn)  1.389500e-01     1.464600e-01"
      ]
     },
     "execution_count": 46,
     "metadata": {},
     "output_type": "execute_result"
    }
   ],
   "source": [
    "model_table_df"
   ]
  },
  {
   "cell_type": "code",
   "execution_count": 47,
   "metadata": {},
   "outputs": [
    {
     "data": {
      "image/png": "[encoded data removed]",
      "text/plain": [
       "<Figure size 720x360 with 1 Axes>"
      ]
     },
     "metadata": {
      "needs_background": "light"
     },
     "output_type": "display_data"
    }
   ],
   "source": [
    "#plt.clf()\n",
    "#plt.figure()\n",
    "#Married, singlr, divorced\n",
    "\n",
    "txt='Composite feature'\n",
    "\n",
    "ax = model_table_df.iloc[[0,2,3,4,5,6,8],:].plot.bar(x='Metrics', rot=90, width = 0.7, \n",
    "                                                       color=['red', 'black'], figsize=(10,5), fontsize=12)\n",
    "plt.suptitle('Before and after reweighting: {}'.format(txt),  fontsize=16, y=1)\n",
    "\n",
    "\n",
    "\n",
    "patches, labels = ax.get_legend_handles_labels()\n",
    "ax.legend(patches, labels, loc='upper right', fontsize=12)\n",
    "\n",
    "ax.set_xlabel('Accuracy metrics', fontsize=15)\n",
    "\n",
    "\n",
    "#plt.savefig('BnAR.svg', format='svg', dpi=500, bbox_inches='tight') #,\n",
    "#plt.savefig('BnAR.png', format='png', dpi=500, bbox_inches='tight')\n",
    "#beingsaved = plt.figure()\n",
    "#beingsaved.savefig('BnAR.eps', format='eps', dpi=500)\n",
    "\n",
    "plt.show()"
   ]
  },
  {
   "cell_type": "markdown",
   "metadata": {},
   "source": [
    "<div class=\"alert alert-block alert-success\">\n",
    "<b>Inference:</b>\n",
    "After using weights (generated from reweighing algorithm) metrics like AUC, precision, false negative rate has increased while gini, sensitivity, F1 score and cost has decreased significantly.\n",
    "    \n",
    "<b> PS: Cost here is 700 for each FP and 300 for each FN</b>\n",
    "</div>"
   ]
  },
  {
   "cell_type": "code",
   "execution_count": 48,
   "metadata": {},
   "outputs": [],
   "source": [
    "ww=[perf_metrics(y_test, y_pred_prob_ww, y_pred_ww, X_test1, choice, pval, upval)]\n",
    "wow=[perf_metrics(y_test, y_pred_prob_wow, y_pred_wow, X_test1, choice, pval, upval)]\n",
    "headers=[\"AUC\", \"Avg Precision\", \"Eq Oppo\", \"Eq Of Odds\", \"Precision\", \n",
    "         \"Demo Parity\", \"Avg Odds Diff\", \"Pred Equality\", \"Treatment Equality\", \"Pred Parity\",\n",
    "         \"Cost Diff\", \"Total Cost\"]"
   ]
  },
  {
   "cell_type": "code",
   "execution_count": 49,
   "metadata": {},
   "outputs": [],
   "source": [
    "ww_wow={'Metrics':headers, \n",
    "             'With_Weights':list(ww[0]), 'Without_Weights':list(wow[0])}\n",
    "\n",
    "compare_table=pd.DataFrame.from_dict(ww_wow)\n",
    "compare_table.loc[12] = ['Total Cost (in Mn)', compare_table.iloc[11,1]/10000000, compare_table.iloc[11,2]/10000000]"
   ]
  },
  {
   "cell_type": "code",
   "execution_count": 50,
   "metadata": {},
   "outputs": [
    {
     "data": {
      "text/html": [
       "<div>\n",
       "<style scoped>\n",
       "    .dataframe tbody tr th:only-of-type {\n",
       "        vertical-align: middle;\n",
       "    }\n",
       "\n",
       "    .dataframe tbody tr th {\n",
       "        vertical-align: top;\n",
       "    }\n",
       "\n",
       "    .dataframe thead th {\n",
       "        text-align: right;\n",
       "    }\n",
       "</style>\n",
       "<table border=\"1\" class=\"dataframe\">\n",
       "  <thead>\n",
       "    <tr style=\"text-align: right;\">\n",
       "      <th></th>\n",
       "      <th>Metrics</th>\n",
       "      <th>With_Weights</th>\n",
       "      <th>Without_Weights</th>\n",
       "    </tr>\n",
       "  </thead>\n",
       "  <tbody>\n",
       "    <tr>\n",
       "      <th>0</th>\n",
       "      <td>AUC</td>\n",
       "      <td>9.172845e-02</td>\n",
       "      <td>1.047062e-01</td>\n",
       "    </tr>\n",
       "    <tr>\n",
       "      <th>1</th>\n",
       "      <td>Avg Precision</td>\n",
       "      <td>1.553813e-01</td>\n",
       "      <td>1.590184e-01</td>\n",
       "    </tr>\n",
       "    <tr>\n",
       "      <th>2</th>\n",
       "      <td>Eq Oppo</td>\n",
       "      <td>3.551391e-02</td>\n",
       "      <td>6.767527e-02</td>\n",
       "    </tr>\n",
       "    <tr>\n",
       "      <th>3</th>\n",
       "      <td>Eq Of Odds</td>\n",
       "      <td>6.909327e-02</td>\n",
       "      <td>1.414302e-01</td>\n",
       "    </tr>\n",
       "    <tr>\n",
       "      <th>4</th>\n",
       "      <td>Precision</td>\n",
       "      <td>1.017520e-01</td>\n",
       "      <td>1.220595e-01</td>\n",
       "    </tr>\n",
       "    <tr>\n",
       "      <th>5</th>\n",
       "      <td>Demo Parity</td>\n",
       "      <td>3.971582e-02</td>\n",
       "      <td>7.951927e-02</td>\n",
       "    </tr>\n",
       "    <tr>\n",
       "      <th>6</th>\n",
       "      <td>Avg Odds Diff</td>\n",
       "      <td>3.590043e-02</td>\n",
       "      <td>7.260213e-02</td>\n",
       "    </tr>\n",
       "    <tr>\n",
       "      <th>7</th>\n",
       "      <td>Pred Equality</td>\n",
       "      <td>3.628695e-02</td>\n",
       "      <td>7.752899e-02</td>\n",
       "    </tr>\n",
       "    <tr>\n",
       "      <th>8</th>\n",
       "      <td>Treatment Equality</td>\n",
       "      <td>2.352778e+01</td>\n",
       "      <td>1.520147e+01</td>\n",
       "    </tr>\n",
       "    <tr>\n",
       "      <th>9</th>\n",
       "      <td>Pred Parity</td>\n",
       "      <td>1.017520e-01</td>\n",
       "      <td>1.220595e-01</td>\n",
       "    </tr>\n",
       "    <tr>\n",
       "      <th>10</th>\n",
       "      <td>Cost Diff</td>\n",
       "      <td>-6.575000e+05</td>\n",
       "      <td>-6.326000e+05</td>\n",
       "    </tr>\n",
       "    <tr>\n",
       "      <th>11</th>\n",
       "      <td>Total Cost</td>\n",
       "      <td>1.389500e+06</td>\n",
       "      <td>1.464600e+06</td>\n",
       "    </tr>\n",
       "    <tr>\n",
       "      <th>12</th>\n",
       "      <td>Total Cost (in Mn)</td>\n",
       "      <td>1.389500e-01</td>\n",
       "      <td>1.464600e-01</td>\n",
       "    </tr>\n",
       "  </tbody>\n",
       "</table>\n",
       "</div>"
      ],
      "text/plain": [
       "               Metrics  With_Weights  Without_Weights\n",
       "0                  AUC  9.172845e-02     1.047062e-01\n",
       "1        Avg Precision  1.553813e-01     1.590184e-01\n",
       "2              Eq Oppo  3.551391e-02     6.767527e-02\n",
       "3           Eq Of Odds  6.909327e-02     1.414302e-01\n",
       "4            Precision  1.017520e-01     1.220595e-01\n",
       "5          Demo Parity  3.971582e-02     7.951927e-02\n",
       "6        Avg Odds Diff  3.590043e-02     7.260213e-02\n",
       "7        Pred Equality  3.628695e-02     7.752899e-02\n",
       "8   Treatment Equality  2.352778e+01     1.520147e+01\n",
       "9          Pred Parity  1.017520e-01     1.220595e-01\n",
       "10           Cost Diff -6.575000e+05    -6.326000e+05\n",
       "11          Total Cost  1.389500e+06     1.464600e+06\n",
       "12  Total Cost (in Mn)  1.389500e-01     1.464600e-01"
      ]
     },
     "execution_count": 50,
     "metadata": {},
     "output_type": "execute_result"
    }
   ],
   "source": [
    "compare_table"
   ]
  },
  {
   "cell_type": "markdown",
   "metadata": {},
   "source": [
    "#### Difference in metrics (accuracy and fairness) between two groups before and after"
   ]
  },
  {
   "cell_type": "code",
   "execution_count": 51,
   "metadata": {},
   "outputs": [
    {
     "data": {
      "image/png": "[encoded data removed]",
      "text/plain": [
       "<Figure size 720x360 with 1 Axes>"
      ]
     },
     "metadata": {
      "needs_background": "light"
     },
     "output_type": "display_data"
    }
   ],
   "source": [
    "ax = compare_table.iloc[[0,1,2,3,4,5,6,7,9,12],:].plot.bar(x='Metrics', rot=90, width = 0.7, color=['red', 'black'], \n",
    "                                                           figsize=(10,5), fontsize=12)\n",
    "plt.suptitle('Absolute difference before and after reweighing for {}'.format(txt),  \n",
    "             fontsize=15, y=1)\n",
    "\n",
    "\n",
    "\n",
    "\n",
    "patches, labels = ax.get_legend_handles_labels()\n",
    "ax.legend(patches, labels, loc='upper right', fontsize=12)\n",
    "\n",
    "\n",
    "ax.set_xlabel('Fairness metrics', fontsize=15)\n",
    "\n",
    "\n",
    "#plt.savefig('ADF.svg', format='svg', dpi=500, bbox_inches='tight')\n",
    "#plt.savefig('ADF.png', format='png', dpi=500, bbox_inches='tight')\n",
    "\n",
    "#beingsaved = plt.figure()\n",
    "#beingsaved.savefig('ADF.eps', format='eps', dpi=500)\n",
    "\n",
    "\n",
    "plt.show()"
   ]
  },
  {
   "cell_type": "markdown",
   "metadata": {},
   "source": [
    "<div class=\"alert alert-block alert-success\">\n",
    "<b>Inference:</b>\n",
    "It can be seen that by using weights (as generated by reweighing technique) almost all fairness metrics are performing better than in the case of model without weights.    \n",
    "Equality of opportunity, predictive parity and predictive equality has the best result as it has improved drastically. In terms of delta, equality of odds has shown maximum improvement\n",
    "</div>"
   ]
  },
  {
   "cell_type": "markdown",
   "metadata": {},
   "source": [
    "<a id=\"6\"> </a> \n",
    "\n",
    "<div class=\"alert alert-block alert-warning\">\n",
    "<span style=\"font-family:Futura Next; font-size:2em;\">Accuracy-cost-fairness trade-off</span>\n",
    "</div>"
   ]
  },
  {
   "cell_type": "markdown",
   "metadata": {},
   "source": [
    "<a id=\"6a\"> </a> \n",
    "\n",
    "<div class=\"alert alert-block alert-warning\">\n",
    "<span style=\"font-family:Futura Next; font-size:1.25em;\">Calibrating across single threshold</span>\n",
    "</div>"
   ]
  },
  {
   "cell_type": "code",
   "execution_count": 52,
   "metadata": {},
   "outputs": [],
   "source": [
    "thresholds = np.arange(0, 1.01, 0.01)"
   ]
  },
  {
   "cell_type": "code",
   "execution_count": 53,
   "metadata": {},
   "outputs": [],
   "source": [
    "#Higher probablity is 0 in binary\n",
    "#Lower probablity is 1 in binary"
   ]
  },
  {
   "cell_type": "code",
   "execution_count": 54,
   "metadata": {
    "scrolled": true
   },
   "outputs": [],
   "source": [
    "EOpp, EOdds, demo_parity, AOD, p_eq, TE, pp, TNR, precision, FPR, f1, roc, sensitivity, fnr, fp, fn, cost = on_same_threshold(X_test1, y_test, choice, y_pred_prob_wow, pval, upval)"
   ]
  },
  {
   "cell_type": "code",
   "execution_count": 55,
   "metadata": {},
   "outputs": [],
   "source": [
    "#EOpp, EOdds, demo_parity, AOD, p_eq, TE, pp, TNR, precision, FPR, f1, roc, sensitivity, fnr, fp, fn, cost = on_same_threshold(X_test1, y_test, choice, y_pred_prob_ww, pval, upval)"
   ]
  },
  {
   "cell_type": "code",
   "execution_count": 56,
   "metadata": {},
   "outputs": [],
   "source": [
    "cost = [x / 100000 for x in cost]\n",
    "\n",
    "same_thresholds={'Threshold':thresholds, \n",
    "             'Eq of Opportunity':EOpp, 'Eq of Odds':EOdds, 'Demographic Parity': demo_parity,\n",
    "                 'Avg Odds':AOD, 'Pred equality':p_eq, 'Treatment eq':TE, 'Pred Parity':pp,\n",
    "                 'True Negative Rate': TNR, 'Precision': precision, 'False Positive Rate':FPR, \n",
    "                 \"F1\": f1, \"Area Under Curve\":roc , \"Sensitivity\":sensitivity, \"False Negative Rate\":fnr,\n",
    "                 \"FP\":fp, \"FN\":fn,\n",
    "                 'Cost':cost}\n",
    "\n",
    "same_thresholds_table=pd.DataFrame.from_dict(same_thresholds)\n",
    "same_thresholds_table = same_thresholds_table.fillna(0)\n",
    "#same_thresholds_table.tail(10)"
   ]
  },
  {
   "cell_type": "code",
   "execution_count": 57,
   "metadata": {},
   "outputs": [
    {
     "data": {
      "image/png": "[encoded data removed]",
      "text/plain": [
       "<Figure size 1440x720 with 2 Axes>"
      ]
     },
     "metadata": {
      "needs_background": "light"
     },
     "output_type": "display_data"
    }
   ],
   "source": [
    "#plt.figure()\n",
    "\n",
    "fig, ax1 = plt.subplots(figsize=(20,10))\n",
    "\n",
    "fig.suptitle('Fairness metrics (and total cost) at various threshold for {}'.format(choice), fontsize=20, y=1.05)\n",
    "\n",
    "\n",
    "ax1.plot( 'Threshold', 'Eq of Opportunity', data=same_thresholds_table, marker='', color='blue', linewidth=2)\n",
    "ax1.plot( 'Threshold', 'Eq of Odds', data=same_thresholds_table, marker='', color='red', linewidth=2)\n",
    "ax1.plot( 'Threshold', 'Demographic Parity', data=same_thresholds_table, marker='', color='yellow', linewidth=2)\n",
    "\n",
    "\n",
    "\n",
    "\n",
    "#ax1.plot( 'Threshold', 'Avg Odds', data=same_thresholds_table, marker='', color='orange', linewidth=2)\n",
    "#ax1.plot( 'Threshold', 'Pred equality', data=same_thresholds_table, marker='', color='purple', linewidth=2)\n",
    "#ax1.plot( 'Threshold', 'Treatment eq', data=same_thresholds_table, marker='', color='yellow', linewidth=2)\n",
    "#ax1.plot( 'Threshold', 'Pred Parity', data=same_thresholds_table, marker='', color='magenta', linewidth=2)\n",
    "\n",
    "\n",
    "\n",
    "ax1.plot( 'Threshold', 'True Negative Rate', data=same_thresholds_table, marker='', color='green', linewidth=2)\n",
    "#ax1.plot( 'Threshold', 'Precision', data=same_thresholds_table, marker='', color='black', linewidth=2)\n",
    "ax1.plot( 'Threshold', 'False Positive Rate', data=same_thresholds_table, marker='', linestyle='--', color='purple', linewidth=2)\n",
    "#ax1.plot( 'Threshold', 'F1', data=same_thresholds_table, marker='', color='grey', linewidth=2)\n",
    "ax1.plot( 'Threshold', 'Area Under Curve', data=same_thresholds_table, marker='', linestyle='--', color='grey', linewidth=2)\n",
    "#ax1.plot( 'Threshold', 'Sensitivity', data=same_thresholds_table, marker='', linestyle='--', color='blue', linewidth=2)\n",
    "ax1.plot( 'Threshold', 'False Negative Rate', data=same_thresholds_table, marker='', linestyle='--', color='cyan', linewidth=2)\n",
    "\n",
    "\n",
    "\n",
    "#ax1.plot( 'Threshold', 'FP', data=same_thresholds_table, marker='', color='black', linewidth=2)\n",
    "#ax1.plot( 'Threshold', 'FN', data=same_thresholds_table, marker='', color='black', linewidth=2)\n",
    "\n",
    "\n",
    "\n",
    "\n",
    "\n",
    "ax2 = ax1.twinx() \n",
    "ax2.plot( 'Threshold', 'Cost', data=same_thresholds_table, marker='', color='orange', linewidth=2)\n",
    "\n",
    "\n",
    "\n",
    "patches, labels = ax1.get_legend_handles_labels()\n",
    "ax1.legend(patches, labels, loc='upper left', fontsize=10)\n",
    "\n",
    "patches, labels = ax2.get_legend_handles_labels()\n",
    "ax2.legend(patches, labels, loc='upper left', fontsize=14)\n",
    "\n",
    "\n",
    "ax1.set_ylabel('difference in fairness metrics', fontsize=15)\n",
    "ax2.set_ylabel('Total cost (in 100k)', fontsize=15)\n",
    "\n",
    "fig.tight_layout()  # otherwise the right y-label is slightly clipped\n",
    "plt.legend()\n",
    "\n",
    "ax1.set_xlabel('Thresholds', fontsize=15)\n",
    "\n",
    "\n",
    "plt.show()\n",
    "#plt.clf()"
   ]
  },
  {
   "cell_type": "markdown",
   "metadata": {},
   "source": [
    "<div class=\"alert alert-block alert-success\">\n",
    "<b>Inference:</b>\n",
    "The cost is minimum at lower threshold and increase significantly after 0.80.         \n",
    "The fairness metrics has acceptable values every where except for thresholds between 0.60-0.80.         \n",
    "The accuracy difference between two classes in minimum everywhere except for thresholds between 0.60-0.80.\n",
    "Thus, there seems a very distinct trade-off between fairness-cost-accuracy.    \n",
    "In order to minimize cost, maximize accuracy and maintain fairness, the best range of threshold would be between 0.40-0.60 \n",
    "</div>"
   ]
  },
  {
   "cell_type": "code",
   "execution_count": null,
   "metadata": {},
   "outputs": [],
   "source": []
  }
 ],
 "metadata": {
  "kernelspec": {
   "display_name": "Python 3",
   "language": "python",
   "name": "python3"
  },
  "language_info": {
   "codemirror_mode": {
    "name": "ipython",
    "version": 3
   },
   "file_extension": ".py",
   "mimetype": "text/x-python",
   "name": "python",
   "nbconvert_exporter": "python",
   "pygments_lexer": "ipython3",
   "version": "3.8.3"
  }
 },
 "nbformat": 4,
 "nbformat_minor": 2
}
